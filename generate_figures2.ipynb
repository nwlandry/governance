{
 "cells": [
  {
   "cell_type": "code",
   "execution_count": 1,
   "metadata": {},
   "outputs": [],
   "source": [
    "%load_ext autoreload\n",
    "%autoreload 2"
   ]
  },
  {
   "cell_type": "code",
   "execution_count": 2,
   "metadata": {},
   "outputs": [
    {
     "name": "stderr",
     "output_type": "stream",
     "text": [
      "/usr/lib/python3/dist-packages/scipy/__init__.py:146: UserWarning: A NumPy version >=1.17.3 and <1.25.0 is required for this version of SciPy (detected version 1.26.1\n",
      "  warnings.warn(f\"A NumPy version >={np_minversion} and <{np_maxversion}\"\n"
     ]
    }
   ],
   "source": [
    "import numpy as np\n",
    "import xgi\n",
    "import networkx as nx\n",
    "from governance import *\n",
    "import matplotlib\n",
    "import matplotlib.pyplot as plt\n",
    "import seaborn as sns\n",
    "import cProfile\n",
    "import math"
   ]
  },
  {
   "cell_type": "code",
   "execution_count": 3,
   "metadata": {},
   "outputs": [],
   "source": [
    "num_decisions = 6\n",
    "num_people = 1000\n",
    "\n",
    "select_decision_type = \"random\"\n",
    "select_group_type = \"star\"\n",
    "make_decision_type = \"average\"\n",
    "update_opinions_type = \"star\""
   ]
  },
  {
   "cell_type": "code",
   "execution_count": 4,
   "metadata": {},
   "outputs": [
    {
     "name": "stdout",
     "output_type": "stream",
     "text": [
      "0.0\n",
      "0.1\n",
      "0.2\n",
      "0.3\n",
      "0.4\n",
      "0.5\n",
      "0.6\n",
      "0.7\n",
      "0.8\n",
      "0.9\n"
     ]
    }
   ],
   "source": [
    "num_decisions = 20\n",
    "num_samples = 1000\n",
    "densities = np.arange(0.0, 0.2, 0.02)\n",
    "\n",
    "group_size = 20\n",
    "overlap = 0\n",
    "satisfaction_0 = np.zeros((len(densities),num_samples))\n",
    "satisfiability_0 = np.zeros((len(densities),num_samples))\n",
    "\n",
    "for i in range(len(densities)):\n",
    "    print(i / len(densities))\n",
    "    for j in range(num_samples):\n",
    "        decision_matrix = np.zeros((num_decisions,num_decisions))\n",
    "        num_constraints = 0\n",
    "        for d1 in range(num_decisions):\n",
    "            for d2 in range(d1+1,num_decisions):\n",
    "                if random.uniform(0, 1)<densities[i]:\n",
    "                    num_constraints += 1\n",
    "                    if random.uniform(0, 1)<0.5:\n",
    "                        decision_matrix[d1,d2] = 1\n",
    "                        decision_matrix[d2,d1] = 1\n",
    "                    else:\n",
    "                        decision_matrix[d1,d2] = -1\n",
    "                        decision_matrix[d2,d1] = -1\n",
    "        #opinions = create_greedy_opinions(num_people, num_decisions, decision_matrix)\n",
    "        opinions = create_uniform_greedy_opinions(num_people, num_decisions, decision_matrix)\n",
    "        votes = np.mean(opinions, axis=0)\n",
    "        decisions, final_opinions, decision_groups = decision_process(\n",
    "            opinions,\n",
    "            decision_matrix,\n",
    "            group_size,\n",
    "            overlap,\n",
    "            select_decision_type=select_decision_type,\n",
    "            select_group_type=select_group_type,\n",
    "            make_decision_type=make_decision_type,\n",
    "            update_opinions_type=update_opinions_type,\n",
    "        )\n",
    "        d = decisions_to_array(decisions)\n",
    "        satisfaction_0[i,j] += (votes.dot(d)/np.sum(np.abs(votes)))\n",
    "        if num_constraints > 0:\n",
    "            for d1, d2 in np.ndindex(decision_matrix.shape):\n",
    "                satisfiability_0[i,j] += (\n",
    "                    decision_matrix[d1, d2] * decisions[d1] * decisions[d2] / (2*num_constraints)\n",
    "                )\n",
    "        else:\n",
    "            satisfiability_0[i,j] += 1.0"
   ]
  },
  {
   "cell_type": "code",
   "execution_count": 5,
   "metadata": {},
   "outputs": [
    {
     "name": "stdout",
     "output_type": "stream",
     "text": [
      "0.0\n",
      "0.1\n",
      "0.2\n",
      "0.3\n",
      "0.4\n",
      "0.5\n",
      "0.6\n",
      "0.7\n",
      "0.8\n",
      "0.9\n"
     ]
    }
   ],
   "source": [
    "num_decisions = 20\n",
    "num_samples = 1000\n",
    "densities = np.arange(0.0, 0.2, 0.02)\n",
    "\n",
    "group_size = 20\n",
    "overlap = 1\n",
    "satisfaction_1 = np.zeros((len(densities),num_samples))\n",
    "satisfiability_1 = np.zeros((len(densities),num_samples))\n",
    "\n",
    "for i in range(len(densities)):\n",
    "    print(i / len(densities))\n",
    "    for j in range(num_samples):\n",
    "        decision_matrix = np.zeros((num_decisions,num_decisions))\n",
    "        num_constraints = 0\n",
    "        for d1 in range(num_decisions):\n",
    "            for d2 in range(d1+1,num_decisions):\n",
    "                if random.uniform(0, 1)<densities[i]:\n",
    "                    num_constraints += 1\n",
    "                    if random.uniform(0, 1)<0.5:\n",
    "                        decision_matrix[d1,d2] = 1\n",
    "                        decision_matrix[d2,d1] = 1\n",
    "                    else:\n",
    "                        decision_matrix[d1,d2] = -1\n",
    "                        decision_matrix[d2,d1] = -1\n",
    "        #opinions = create_greedy_opinions(num_people, num_decisions, decision_matrix)\n",
    "        opinions = create_uniform_greedy_opinions(num_people, num_decisions, decision_matrix)\n",
    "        votes = np.mean(opinions, axis=0)\n",
    "        decisions, final_opinions, decision_groups = decision_process(\n",
    "            opinions,\n",
    "            decision_matrix,\n",
    "            group_size,\n",
    "            overlap,\n",
    "            select_decision_type=select_decision_type,\n",
    "            select_group_type=select_group_type,\n",
    "            make_decision_type=make_decision_type,\n",
    "            update_opinions_type=update_opinions_type,\n",
    "        )\n",
    "        d = decisions_to_array(decisions)\n",
    "        satisfaction_1[i,j] += (votes.dot(d)/np.sum(np.abs(votes)))\n",
    "        if num_constraints > 0:\n",
    "            for d1, d2 in np.ndindex(decision_matrix.shape):\n",
    "                satisfiability_1[i,j] += (\n",
    "                    decision_matrix[d1, d2] * decisions[d1] * decisions[d2] / (2*num_constraints)\n",
    "                )\n",
    "        else:\n",
    "            satisfiability_1[i,j] += 1.0"
   ]
  },
  {
   "cell_type": "code",
   "execution_count": 6,
   "metadata": {},
   "outputs": [
    {
     "name": "stdout",
     "output_type": "stream",
     "text": [
      "0.0\n",
      "0.1\n",
      "0.2\n",
      "0.3\n",
      "0.4\n",
      "0.5\n",
      "0.6\n",
      "0.7\n",
      "0.8\n",
      "0.9\n"
     ]
    }
   ],
   "source": [
    "num_decisions = 20\n",
    "num_samples = 1000\n",
    "densities = np.arange(0.0, 0.2, 0.02)\n",
    "\n",
    "group_size = 20\n",
    "overlap = 2\n",
    "satisfaction_2 = np.zeros((len(densities),num_samples))\n",
    "satisfiability_2 = np.zeros((len(densities),num_samples))\n",
    "\n",
    "for i in range(len(densities)):\n",
    "    print(i / len(densities))\n",
    "    for j in range(num_samples):\n",
    "        decision_matrix = np.zeros((num_decisions,num_decisions))\n",
    "        num_constraints = 0\n",
    "        for d1 in range(num_decisions):\n",
    "            for d2 in range(d1+1,num_decisions):\n",
    "                if random.uniform(0, 1)<densities[i]:\n",
    "                    num_constraints += 1\n",
    "                    if random.uniform(0, 1)<0.5:\n",
    "                        decision_matrix[d1,d2] = 1\n",
    "                        decision_matrix[d2,d1] = 1\n",
    "                    else:\n",
    "                        decision_matrix[d1,d2] = -1\n",
    "                        decision_matrix[d2,d1] = -1\n",
    "        #opinions = create_greedy_opinions(num_people, num_decisions, decision_matrix)\n",
    "        opinions = create_uniform_greedy_opinions(num_people, num_decisions, decision_matrix)\n",
    "        votes = np.mean(opinions, axis=0)\n",
    "        decisions, final_opinions, decision_groups = decision_process(\n",
    "            opinions,\n",
    "            decision_matrix,\n",
    "            group_size,\n",
    "            overlap,\n",
    "            select_decision_type=select_decision_type,\n",
    "            select_group_type=select_group_type,\n",
    "            make_decision_type=make_decision_type,\n",
    "            update_opinions_type=update_opinions_type,\n",
    "        )\n",
    "        d = decisions_to_array(decisions)\n",
    "        satisfaction_2[i,j] += (votes.dot(d)/np.sum(np.abs(votes)))\n",
    "        if num_constraints > 0:\n",
    "            for d1, d2 in np.ndindex(decision_matrix.shape):\n",
    "                satisfiability_2[i,j] += (\n",
    "                    decision_matrix[d1, d2] * decisions[d1] * decisions[d2] / (2*num_constraints)\n",
    "                )\n",
    "        else:\n",
    "            satisfiability_2[i,j] += 1.0"
   ]
  },
  {
   "cell_type": "code",
   "execution_count": 7,
   "metadata": {},
   "outputs": [
    {
     "name": "stdout",
     "output_type": "stream",
     "text": [
      "0.0\n",
      "0.1\n",
      "0.2\n",
      "0.3\n",
      "0.4\n",
      "0.5\n",
      "0.6\n",
      "0.7\n",
      "0.8\n",
      "0.9\n"
     ]
    }
   ],
   "source": [
    "num_decisions = 20\n",
    "num_samples = 1000\n",
    "densities = np.arange(0.0, 0.2, 0.02)\n",
    "\n",
    "group_size = 20\n",
    "overlap = 5\n",
    "satisfaction_5 = np.zeros((len(densities),num_samples))\n",
    "satisfiability_5 = np.zeros((len(densities),num_samples))\n",
    "\n",
    "for i in range(len(densities)):\n",
    "    print(i / len(densities))\n",
    "    for j in range(num_samples):\n",
    "        decision_matrix = np.zeros((num_decisions,num_decisions))\n",
    "        num_constraints = 0\n",
    "        for d1 in range(num_decisions):\n",
    "            for d2 in range(d1+1,num_decisions):\n",
    "                if random.uniform(0, 1)<densities[i]:\n",
    "                    num_constraints += 1\n",
    "                    if random.uniform(0, 1)<0.5:\n",
    "                        decision_matrix[d1,d2] = 1\n",
    "                        decision_matrix[d2,d1] = 1\n",
    "                    else:\n",
    "                        decision_matrix[d1,d2] = -1\n",
    "                        decision_matrix[d2,d1] = -1\n",
    "        #opinions = create_greedy_opinions(num_people, num_decisions, decision_matrix)\n",
    "        opinions = create_uniform_greedy_opinions(num_people, num_decisions, decision_matrix)\n",
    "        votes = np.mean(opinions, axis=0)\n",
    "        decisions, final_opinions, decision_groups = decision_process(\n",
    "            opinions,\n",
    "            decision_matrix,\n",
    "            group_size,\n",
    "            overlap,\n",
    "            select_decision_type=select_decision_type,\n",
    "            select_group_type=select_group_type,\n",
    "            make_decision_type=make_decision_type,\n",
    "            update_opinions_type=update_opinions_type,\n",
    "        )\n",
    "        d = decisions_to_array(decisions)\n",
    "        satisfaction_5[i,j] += (votes.dot(d)/np.sum(np.abs(votes)))\n",
    "        if num_constraints > 0:\n",
    "            for d1, d2 in np.ndindex(decision_matrix.shape):\n",
    "                satisfiability_5[i,j] += (\n",
    "                    decision_matrix[d1, d2] * decisions[d1] * decisions[d2] / (2*num_constraints)\n",
    "                )\n",
    "        else:\n",
    "            satisfiability_5[i,j] += 1.0"
   ]
  },
  {
   "cell_type": "code",
   "execution_count": 8,
   "metadata": {},
   "outputs": [
    {
     "name": "stdout",
     "output_type": "stream",
     "text": [
      "0.0\n",
      "0.1\n",
      "0.2\n",
      "0.3\n",
      "0.4\n",
      "0.5\n",
      "0.6\n",
      "0.7\n",
      "0.8\n",
      "0.9\n"
     ]
    }
   ],
   "source": [
    "num_decisions = 20\n",
    "num_samples = 1000\n",
    "densities = np.arange(0.0, 0.2, 0.02)\n",
    "\n",
    "group_size = 20\n",
    "overlap = 10\n",
    "satisfaction_10 = np.zeros((len(densities),num_samples))\n",
    "satisfiability_10 = np.zeros((len(densities),num_samples))\n",
    "\n",
    "for i in range(len(densities)):\n",
    "    print(i / len(densities))\n",
    "    for j in range(num_samples):\n",
    "        decision_matrix = np.zeros((num_decisions,num_decisions))\n",
    "        num_constraints = 0\n",
    "        for d1 in range(num_decisions):\n",
    "            for d2 in range(d1+1,num_decisions):\n",
    "                if random.uniform(0, 1)<densities[i]:\n",
    "                    num_constraints += 1\n",
    "                    if random.uniform(0, 1)<0.5:\n",
    "                        decision_matrix[d1,d2] = 1\n",
    "                        decision_matrix[d2,d1] = 1\n",
    "                    else:\n",
    "                        decision_matrix[d1,d2] = -1\n",
    "                        decision_matrix[d2,d1] = -1\n",
    "        #opinions = create_greedy_opinions(num_people, num_decisions, decision_matrix)\n",
    "        opinions = create_uniform_greedy_opinions(num_people, num_decisions, decision_matrix)\n",
    "        votes = np.mean(opinions, axis=0)\n",
    "        decisions, final_opinions, decision_groups = decision_process(\n",
    "            opinions,\n",
    "            decision_matrix,\n",
    "            group_size,\n",
    "            overlap,\n",
    "            select_decision_type=select_decision_type,\n",
    "            select_group_type=select_group_type,\n",
    "            make_decision_type=make_decision_type,\n",
    "            update_opinions_type=update_opinions_type,\n",
    "        )\n",
    "        d = decisions_to_array(decisions)\n",
    "        satisfaction_10[i,j] += (votes.dot(d)/np.sum(np.abs(votes)))\n",
    "        if num_constraints > 0:\n",
    "            for d1, d2 in np.ndindex(decision_matrix.shape):\n",
    "                satisfiability_10[i,j] += (\n",
    "                    decision_matrix[d1, d2] * decisions[d1] * decisions[d2] / (2*num_constraints)\n",
    "                )\n",
    "        else:\n",
    "            satisfiability_10[i,j] += 1.0"
   ]
  },
  {
   "cell_type": "code",
   "execution_count": 9,
   "metadata": {
    "scrolled": true
   },
   "outputs": [
    {
     "data": {
      "image/png": "[encoded data removed]",
      "text/plain": [
       "<Figure size 432x288 with 2 Axes>"
      ]
     },
     "metadata": {
      "needs_background": "light"
     },
     "output_type": "display_data"
    }
   ],
   "source": [
    "plt.figure()\n",
    "plt.subplot(212)\n",
    "plt.errorbar(densities, satisfiability_0.mean(axis=1), yerr=satisfiability_0.std(axis=1), color=\"tab:blue\", marker=\"o\",label='Overlap = 0')\n",
    "plt.errorbar(densities, satisfiability_1.mean(axis=1), yerr=satisfiability_1.std(axis=1), color=\"tab:cyan\", marker=\"o\",label='Overlap = 1')\n",
    "plt.errorbar(densities, satisfiability_2.mean(axis=1), yerr=satisfiability_2.std(axis=1), color=\"tab:pink\", marker=\"o\",label='Overlap = 2')\n",
    "plt.errorbar(densities, satisfiability_5.mean(axis=1), yerr=satisfiability_5.std(axis=1), color=\"tab:olive\", marker=\"o\",label='Overlap = 5')\n",
    "plt.errorbar(densities, satisfiability_10.mean(axis=1), yerr=satisfiability_10.std(axis=1), color=\"tab:orange\", marker=\"o\",label='Overlap = 10')\n",
    "plt.ylabel(\"Average coherence\")\n",
    "plt.xlabel(\"Network density\")\n",
    "plt.ylim((0,1))\n",
    "plt.xlim((0,0.26))\n",
    "plt.legend()\n",
    "plt.subplot(211)\n",
    "plt.errorbar(densities, satisfaction_0.mean(axis=1), yerr=satisfaction_0.std(axis=1), color=\"tab:blue\", marker=\"o\")\n",
    "plt.errorbar(densities, satisfaction_1.mean(axis=1), yerr=satisfaction_1.std(axis=1), color=\"tab:cyan\", marker=\"o\")\n",
    "plt.errorbar(densities, satisfaction_2.mean(axis=1), yerr=satisfaction_2.std(axis=1), color=\"tab:pink\", marker=\"o\")\n",
    "plt.errorbar(densities, satisfaction_5.mean(axis=1), yerr=satisfaction_5.std(axis=1), color=\"tab:olive\", marker=\"o\")\n",
    "plt.errorbar(densities, satisfaction_10.mean(axis=1), yerr=satisfaction_10.std(axis=1), color=\"tab:orange\", marker=\"o\")\n",
    "plt.ylabel(\"Average satisfaction\")\n",
    "plt.xlabel(\"Network density\")\n",
    "plt.ylim((0,1))\n",
    "plt.xlim((0,0.26))\n",
    "plt.tight_layout()\n",
    "plt.savefig(\"Figures/random_networks_uniform_greedy.png\", dpi=1000)\n",
    "plt.savefig(\"Figures/random_networks_uniform_greedy.pdf\")\n",
    "plt.show()\n",
    "np.savetxt(\"Simulations/random_network_uniform_greedy_densities.csv\", densities, delimiter=\",\")\n",
    "np.savetxt(\"Simulations/random_network_uniform_greedy_overlap0.csv\", satisfaction_0, delimiter=\",\")\n",
    "np.savetxt(\"Simulations/random_network_uniform_greedy_overlap1.csv\", satisfaction_1, delimiter=\",\")\n",
    "np.savetxt(\"Simulations/random_network_uniform_greedy_overlap2.csv\", satisfaction_2, delimiter=\",\")\n",
    "np.savetxt(\"Simulations/random_network_uniform_greedy_overlap5.csv\", satisfaction_5, delimiter=\",\")\n",
    "np.savetxt(\"Simulations/random_network_uniform_greedy_overlap10.csv\", satisfaction_10, delimiter=\",\")"
   ]
  },
  {
   "cell_type": "markdown",
   "metadata": {},
   "source": [
    "## "
   ]
  },
  {
   "cell_type": "code",
   "execution_count": null,
   "metadata": {},
   "outputs": [],
   "source": []
  }
 ],
 "metadata": {
  "kernelspec": {
   "display_name": "Python 3 (ipykernel)",
   "language": "python",
   "name": "python3"
  },
  "language_info": {
   "codemirror_mode": {
    "name": "ipython",
    "version": 3
   },
   "file_extension": ".py",
   "mimetype": "text/x-python",
   "name": "python",
   "nbconvert_exporter": "python",
   "pygments_lexer": "ipython3",
   "version": "3.10.12"
  },
  "vscode": {
   "interpreter": {
    "hash": "490fec4a0d1c8aa3b117070c0a31a891d6085f2aee8ba9c2a6fb24705ee22e06"
   }
  }
 },
 "nbformat": 4,
 "nbformat_minor": 2
}
