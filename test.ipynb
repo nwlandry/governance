{
 "cells": [
  {
   "cell_type": "code",
   "execution_count": 1,
   "metadata": {},
   "outputs": [],
   "source": [
    "%load_ext autoreload\n",
    "%autoreload 2"
   ]
  },
  {
   "cell_type": "code",
   "execution_count": 2,
   "metadata": {},
   "outputs": [],
   "source": [
    "import numpy as np\n",
    "import xgi\n",
    "from governance import *\n",
    "import matplotlib.pyplot as plt"
   ]
  },
  {
   "cell_type": "code",
   "execution_count": 3,
   "metadata": {},
   "outputs": [],
   "source": [
    "def create_decision_matrix(m):\n",
    "    D = np.zeros((m, m))\n",
    "    for i in range(m):\n",
    "        for j in range(i):\n",
    "            D[j, i] = D[i, j] = random.choice([-1, 0, 1])\n",
    "    return D\n",
    "\n",
    "def create_opinions(n, m):\n",
    "    D = np.zeros((n, m))\n",
    "    for i in range(n):\n",
    "        for j in range(m):\n",
    "            D[i, j] = random.choice([-1, 0, 1])\n",
    "    return D\n",
    "\n",
    "def decisions_to_array(decisions):\n",
    "    n = len(decisions)\n",
    "    d = np.zeros(n)\n",
    "    for key, val in decisions.items():\n",
    "        if val:\n",
    "            d[key] = 1\n",
    "        else:\n",
    "            d[key] = -1\n",
    "    return d\n"
   ]
  },
  {
   "cell_type": "code",
   "execution_count": 4,
   "metadata": {},
   "outputs": [],
   "source": [
    "num_decisions = 20\n",
    "num_people = 100\n",
    "opinions = create_opinions(num_people, num_decisions)\n",
    "decision_matrix = create_decision_matrix(num_decisions)"
   ]
  },
  {
   "cell_type": "code",
   "execution_count": 7,
   "metadata": {},
   "outputs": [
    {
     "ename": "TypeError",
     "evalue": "unhashable type: 'numpy.ndarray'",
     "output_type": "error",
     "traceback": [
      "\u001b[0;31m---------------------------------------------------------------------------\u001b[0m",
      "\u001b[0;31mTypeError\u001b[0m                                 Traceback (most recent call last)",
      "Input \u001b[0;32mIn [7]\u001b[0m, in \u001b[0;36m<cell line: 4>\u001b[0;34m()\u001b[0m\n\u001b[1;32m      1\u001b[0m group_size \u001b[38;5;241m=\u001b[39m \u001b[38;5;241m3\u001b[39m\n\u001b[1;32m      2\u001b[0m overlap \u001b[38;5;241m=\u001b[39m \u001b[38;5;241m1\u001b[39m\n\u001b[0;32m----> 4\u001b[0m decisions, final_opinions, decision_groups \u001b[38;5;241m=\u001b[39m \u001b[43mdecision_process\u001b[49m\u001b[43m(\u001b[49m\u001b[43mopinions\u001b[49m\u001b[43m,\u001b[49m\u001b[43m \u001b[49m\u001b[43mdecision_matrix\u001b[49m\u001b[43m,\u001b[49m\u001b[43m \u001b[49m\u001b[43mgroup_size\u001b[49m\u001b[43m,\u001b[49m\u001b[43m \u001b[49m\u001b[43moverlap\u001b[49m\u001b[43m,\u001b[49m\u001b[43m \u001b[49m\u001b[43mselect_decision_type\u001b[49m\u001b[38;5;241;43m=\u001b[39;49m\u001b[38;5;124;43m\"\u001b[39;49m\u001b[38;5;124;43mrandom\u001b[39;49m\u001b[38;5;124;43m\"\u001b[39;49m\u001b[43m,\u001b[49m\u001b[43m \u001b[49m\u001b[43mselect_group_type\u001b[49m\u001b[38;5;241;43m=\u001b[39;49m\u001b[38;5;124;43m\"\u001b[39;49m\u001b[38;5;124;43mstar\u001b[39;49m\u001b[38;5;124;43m\"\u001b[39;49m\u001b[43m,\u001b[49m\u001b[43mmake_decision_type\u001b[49m\u001b[38;5;241;43m=\u001b[39;49m\u001b[38;5;124;43m\"\u001b[39;49m\u001b[38;5;124;43maverage\u001b[39;49m\u001b[38;5;124;43m\"\u001b[39;49m\u001b[43m,\u001b[49m\u001b[43mupdate_opinions_type\u001b[49m\u001b[38;5;241;43m=\u001b[39;49m\u001b[38;5;124;43m\"\u001b[39;49m\u001b[38;5;124;43maverage\u001b[39;49m\u001b[38;5;124;43m\"\u001b[39;49m\u001b[43m)\u001b[49m\n",
      "File \u001b[0;32m~/Documents/GitHub/governance/governance/governance.py:47\u001b[0m, in \u001b[0;36mdecision_process\u001b[0;34m(initial_opinions, decision_matrix, group_size, group_overlap, select_decision_type, select_group_type, make_decision_type, update_opinions_type)\u001b[0m\n\u001b[1;32m     38\u001b[0m d \u001b[38;5;241m=\u001b[39m select_decision(\n\u001b[1;32m     39\u001b[0m     decisions,\n\u001b[1;32m     40\u001b[0m     completed_decisions,\n\u001b[0;32m   (...)\u001b[0m\n\u001b[1;32m     43\u001b[0m     how\u001b[38;5;241m=\u001b[39mselect_decision_type,\n\u001b[1;32m     44\u001b[0m )\n\u001b[1;32m     46\u001b[0m \u001b[38;5;66;03m# Select the group to make that decision\u001b[39;00m\n\u001b[0;32m---> 47\u001b[0m g \u001b[38;5;241m=\u001b[39m \u001b[43mselect_group\u001b[49m\u001b[43m(\u001b[49m\n\u001b[1;32m     48\u001b[0m \u001b[43m    \u001b[49m\u001b[43mnodes\u001b[49m\u001b[43m,\u001b[49m\n\u001b[1;32m     49\u001b[0m \u001b[43m    \u001b[49m\u001b[43mgroup_size\u001b[49m\u001b[43m,\u001b[49m\n\u001b[1;32m     50\u001b[0m \u001b[43m    \u001b[49m\u001b[43mgroup_overlap\u001b[49m\u001b[43m,\u001b[49m\n\u001b[1;32m     51\u001b[0m \u001b[43m    \u001b[49m\u001b[43md\u001b[49m\u001b[43m,\u001b[49m\n\u001b[1;32m     52\u001b[0m \u001b[43m    \u001b[49m\u001b[43mdecision_matrix\u001b[49m\u001b[43m,\u001b[49m\n\u001b[1;32m     53\u001b[0m \u001b[43m    \u001b[49m\u001b[43mopinions\u001b[49m\u001b[43m,\u001b[49m\n\u001b[1;32m     54\u001b[0m \u001b[43m    \u001b[49m\u001b[43mgroups\u001b[49m\u001b[43m,\u001b[49m\n\u001b[1;32m     55\u001b[0m \u001b[43m    \u001b[49m\u001b[43mhow\u001b[49m\u001b[38;5;241;43m=\u001b[39;49m\u001b[43mselect_group_type\u001b[49m\u001b[43m,\u001b[49m\n\u001b[1;32m     56\u001b[0m \u001b[43m\u001b[49m\u001b[43m)\u001b[49m\n\u001b[1;32m     58\u001b[0m groups\u001b[38;5;241m.\u001b[39madd_edge(g, \u001b[38;5;28mid\u001b[39m\u001b[38;5;241m=\u001b[39md)  \u001b[38;5;66;03m# add the group to the list of all decision groups\u001b[39;00m\n\u001b[1;32m     60\u001b[0m \u001b[38;5;66;03m# Make the decision\u001b[39;00m\n",
      "File \u001b[0;32m~/Documents/GitHub/governance/governance/governance.py:185\u001b[0m, in \u001b[0;36mselect_group\u001b[0;34m(nodes, size, overlap, decision, decision_matrix, opinions, groups, how, **args)\u001b[0m\n\u001b[1;32m    183\u001b[0m neigh_dec \u001b[38;5;241m=\u001b[39m \u001b[38;5;28mlist\u001b[39m(np\u001b[38;5;241m.\u001b[39mwhere(decision_matrix[decision]\u001b[38;5;241m!=\u001b[39m\u001b[38;5;241m0\u001b[39m))\n\u001b[1;32m    184\u001b[0m nodes \u001b[38;5;241m=\u001b[39m \u001b[38;5;28mset\u001b[39m()\n\u001b[0;32m--> 185\u001b[0m \u001b[38;5;28;01mfor\u001b[39;00m group \u001b[38;5;129;01min\u001b[39;00m \u001b[43mgroups\u001b[49m\u001b[38;5;241;43m.\u001b[39;49m\u001b[43medges\u001b[49m\u001b[43m(\u001b[49m\u001b[43mneigh_dec\u001b[49m\u001b[43m)\u001b[49m\u001b[38;5;241m.\u001b[39mmembers():\n\u001b[1;32m    186\u001b[0m     nodes\u001b[38;5;241m.\u001b[39mupdate(group)\n\u001b[1;32m    187\u001b[0m n \u001b[38;5;241m=\u001b[39m np\u001b[38;5;241m.\u001b[39msize(opinions, axis\u001b[38;5;241m=\u001b[39m\u001b[38;5;241m0\u001b[39m)\n",
      "File \u001b[0;32m/usr/local/lib/python3.9/site-packages/xgi/classes/reportviews.py:177\u001b[0m, in \u001b[0;36mIDView.__call__\u001b[0;34m(self, bunch)\u001b[0m\n\u001b[1;32m    163\u001b[0m \u001b[38;5;28;01mdef\u001b[39;00m \u001b[38;5;21m__call__\u001b[39m(\u001b[38;5;28mself\u001b[39m, bunch):\n\u001b[1;32m    164\u001b[0m     \u001b[38;5;124;03m\"\"\"Filter to the given bunch.\u001b[39;00m\n\u001b[1;32m    165\u001b[0m \n\u001b[1;32m    166\u001b[0m \u001b[38;5;124;03m    Parameters\u001b[39;00m\n\u001b[0;32m   (...)\u001b[0m\n\u001b[1;32m    175\u001b[0m \n\u001b[1;32m    176\u001b[0m \u001b[38;5;124;03m    \"\"\"\u001b[39;00m\n\u001b[0;32m--> 177\u001b[0m     \u001b[38;5;28;01mreturn\u001b[39;00m \u001b[38;5;28;43mself\u001b[39;49m\u001b[38;5;241;43m.\u001b[39;49m\u001b[43mfrom_view\u001b[49m\u001b[43m(\u001b[49m\u001b[38;5;28;43mself\u001b[39;49m\u001b[43m,\u001b[49m\u001b[43m \u001b[49m\u001b[43mbunch\u001b[49m\u001b[43m)\u001b[49m\n",
      "File \u001b[0;32m/usr/local/lib/python3.9/site-packages/xgi/classes/reportviews.py:501\u001b[0m, in \u001b[0;36mIDView.from_view\u001b[0;34m(cls, view, bunch)\u001b[0m\n\u001b[1;32m    499\u001b[0m     newview\u001b[38;5;241m.\u001b[39m_ids \u001b[38;5;241m=\u001b[39m all_ids\n\u001b[1;32m    500\u001b[0m \u001b[38;5;28;01melse\u001b[39;00m:\n\u001b[0;32m--> 501\u001b[0m     bunch \u001b[38;5;241m=\u001b[39m \u001b[38;5;28;43mset\u001b[39;49m\u001b[43m(\u001b[49m\u001b[43mbunch\u001b[49m\u001b[43m)\u001b[49m\n\u001b[1;32m    502\u001b[0m     wrong \u001b[38;5;241m=\u001b[39m bunch \u001b[38;5;241m-\u001b[39m all_ids\n\u001b[1;32m    503\u001b[0m     \u001b[38;5;28;01mif\u001b[39;00m wrong:\n",
      "\u001b[0;31mTypeError\u001b[0m: unhashable type: 'numpy.ndarray'"
     ]
    }
   ],
   "source": [
    "group_size = 3\n",
    "overlap = 1\n",
    "\n",
    "decisions, final_opinions, decision_groups = decision_process(opinions, decision_matrix, group_size, overlap, select_decision_type=\"random\", select_group_type=\"star\",make_decision_type=\"average\",update_opinions_type=\"average\")\n",
    "# d = decisions_to_array(decisions)"
   ]
  },
  {
   "cell_type": "code",
   "execution_count": null,
   "metadata": {},
   "outputs": [],
   "source": [
    "plt.imshow(final_opinions-opinions)"
   ]
  },
  {
   "cell_type": "code",
   "execution_count": null,
   "metadata": {},
   "outputs": [],
   "source": [
    "xgi.draw(decision_groups)"
   ]
  },
  {
   "cell_type": "code",
   "execution_count": null,
   "metadata": {},
   "outputs": [],
   "source": [
    "num_samples = 1000\n",
    "group_sizes = np.arange(2, 11, 1, dtype=int)\n",
    "satisfaction_group_size = np.zeros(len(group_sizes))\n",
    "overlap = min(group_sizes) - 1\n",
    "H_group_sizes = dict()\n",
    "\n",
    "for i in range(len(group_sizes)):\n",
    "    g = group_sizes[i]\n",
    "    for j in range(num_samples):\n",
    "        decisions, final_opinions, decision_groups = decision_process(opinions, decision_matrix, group_size, overlap, select_decision_type=\"random\", select_group_type=\"random\",make_decision_type=\"average\",update_opinions_type=\"average\")\n",
    "        H_group_sizes[(g, overlap, j)] = decision_groups\n",
    "        d = decisions_to_array(decisions)\n",
    "        satisfaction_group_size[i] += np.mean(opinions.dot(d))/num_samples"
   ]
  },
  {
   "cell_type": "code",
   "execution_count": null,
   "metadata": {},
   "outputs": [],
   "source": [
    "num_samples = 1000\n",
    "overlap_sizes = np.arange(2, 11, 1, dtype=int)\n",
    "satisfaction_overlap_size = np.zeros(len(group_sizes))\n",
    "group_size = max(overlap_sizes) + 1\n",
    "\n",
    "H_overlap_sizes = dict()\n",
    "\n",
    "for i in range(len(overlap_sizes)):\n",
    "    o = overlap_sizes[i]\n",
    "    for j in range(num_samples):\n",
    "        decisions, final_opinions, decision_groups = decision_process(opinions, decision_matrix, group_size, overlap, select_decision_type=\"random\", select_group_type=\"random\",make_decision_type=\"average\",update_opinions_type=\"average\")\n",
    "        H_overlap_sizes[(group_size, o, j)] = decision_groups\n",
    "        d = decisions_to_array(decisions)\n",
    "        satisfaction_overlap_size[i] += np.mean(opinions.dot(d))/num_samples"
   ]
  },
  {
   "cell_type": "code",
   "execution_count": null,
   "metadata": {},
   "outputs": [],
   "source": [
    "plt.figure()\n",
    "plt.subplot(211)\n",
    "plt.plot(group_sizes, satisfaction_group_size)\n",
    "plt.ylabel(\"Average satisfaction\")\n",
    "plt.xlabel(\"Group size\")\n",
    "plt.subplot(212)\n",
    "plt.plot(overlap_sizes, satisfaction_overlap_size)\n",
    "plt.ylabel(\"Average satisfaction\")\n",
    "plt.xlabel(\"Overlap size\")\n",
    "plt.tight_layout()\n",
    "plt.show()"
   ]
  },
  {
   "cell_type": "code",
   "execution_count": null,
   "metadata": {},
   "outputs": [],
   "source": [
    "num_samples = 100\n",
    "group_sizes = np.arange(2, 11, 1, dtype=int)\n",
    "satisfaction_group_size = np.zeros(len(group_sizes))\n",
    "overlap = min(group_sizes) - 1\n",
    "H_group_sizes = dict()\n",
    "\n",
    "for i in range(len(group_sizes)):\n",
    "    g = group_sizes[i]\n",
    "    for j in range(num_samples):\n",
    "        decisions, final_opinions, decision_groups = decision_process(opinions, decision_matrix, group_size, overlap, select_decision_type=\"degree\", select_group_type=\"random\",make_decision_type=\"average\",update_opinions_type=\"average\")\n",
    "        H_group_sizes[(g, overlap, j)] = decision_groups\n",
    "        d = decisions_to_array(decisions)\n",
    "        satisfaction_group_size[i] += np.mean(final_opinions.dot(d))/num_samples"
   ]
  },
  {
   "cell_type": "code",
   "execution_count": null,
   "metadata": {},
   "outputs": [],
   "source": [
    "num_samples = 100\n",
    "overlap_sizes = np.arange(2, 11, 1, dtype=int)\n",
    "satisfaction_overlap_size = np.zeros(len(group_sizes))\n",
    "group_size = max(overlap_sizes) + 1\n",
    "\n",
    "H_overlap_sizes = dict()\n",
    "\n",
    "for i in range(len(overlap_sizes)):\n",
    "    o = overlap_sizes[i]\n",
    "    for j in range(num_samples):\n",
    "        decisions, final_opinions, decision_groups = decision_process(opinions, decision_matrix, group_size, overlap, select_decision_type=\"degree\", select_group_type=\"random\",make_decision_type=\"average\",update_opinions_type=\"average\")\n",
    "        H_overlap_sizes[(group_size, o, j)] = decision_groups\n",
    "        d = decisions_to_array(decisions)\n",
    "        satisfaction_overlap_size[i] += np.mean(final_opinions.dot(d))/num_samples"
   ]
  },
  {
   "cell_type": "code",
   "execution_count": null,
   "metadata": {},
   "outputs": [],
   "source": [
    "plt.figure()\n",
    "plt.subplot(211)\n",
    "plt.plot(group_sizes, satisfaction_group_size)\n",
    "plt.ylabel(\"Average satisfaction\")\n",
    "plt.xlabel(\"Group size\")\n",
    "plt.subplot(212)\n",
    "plt.plot(overlap_sizes, satisfaction_overlap_size)\n",
    "plt.ylabel(\"Average satisfaction\")\n",
    "plt.xlabel(\"Overlap size\")\n",
    "plt.tight_layout()\n",
    "plt.show()"
   ]
  },
  {
   "cell_type": "code",
   "execution_count": null,
   "metadata": {},
   "outputs": [],
   "source": [
    "num_samples = 1000\n",
    "group_sizes = np.arange(2, 11, 1, dtype=int)\n",
    "satisfaction_group_size = np.zeros(len(group_sizes))\n",
    "overlap = min(group_sizes) - 1\n",
    "H_group_sizes = dict()\n",
    "\n",
    "for i in range(len(group_sizes)):\n",
    "    g = group_sizes[i]\n",
    "    for j in range(num_samples):\n",
    "        decisions, final_opinions, decision_groups = decision_process(opinions, decision_matrix, group_size, overlap, select_decision_type=\"sentiment\", select_group_type=\"random\",make_decision_type=\"average\",update_opinions_type=\"average\")\n",
    "        H_group_sizes[(g, overlap, j)] = decision_groups\n",
    "        d = decisions_to_array(decisions)\n",
    "        satisfaction_group_size[i] += np.mean(final_opinions.dot(d))/num_samples"
   ]
  },
  {
   "cell_type": "code",
   "execution_count": null,
   "metadata": {},
   "outputs": [],
   "source": [
    "num_samples = 1000\n",
    "overlap_sizes = np.arange(2, 11, 1, dtype=int)\n",
    "satisfaction_overlap_size = np.zeros(len(group_sizes))\n",
    "group_size = max(overlap_sizes) + 1\n",
    "\n",
    "H_overlap_sizes = dict()\n",
    "\n",
    "for i in range(len(overlap_sizes)):\n",
    "    o = overlap_sizes[i]\n",
    "    for j in range(num_samples):\n",
    "        decisions, final_opinions, decision_groups = decision_process(opinions, decision_matrix, group_size, overlap, select_decision_type=\"sentiment\", select_group_type=\"random\",make_decision_type=\"average\",update_opinions_type=\"average\")\n",
    "        H_overlap_sizes[(group_size, o, j)] = decision_groups\n",
    "        d = decisions_to_array(decisions)\n",
    "        satisfaction_overlap_size[i] += np.mean(final_opinions.dot(d))/num_samples"
   ]
  },
  {
   "cell_type": "code",
   "execution_count": null,
   "metadata": {},
   "outputs": [],
   "source": [
    "plt.figure()\n",
    "plt.subplot(211)\n",
    "plt.plot(group_sizes, satisfaction_group_size)\n",
    "plt.ylabel(\"Average satisfaction\")\n",
    "plt.xlabel(\"Group size\")\n",
    "plt.subplot(212)\n",
    "plt.plot(overlap_sizes, satisfaction_overlap_size)\n",
    "plt.ylabel(\"Average satisfaction\")\n",
    "plt.xlabel(\"Overlap size\")\n",
    "plt.tight_layout()\n",
    "plt.show()"
   ]
  },
  {
   "cell_type": "code",
   "execution_count": null,
   "metadata": {},
   "outputs": [],
   "source": [
    "xgi.draw(H_overlap_sizes[(11, 2, 5)])"
   ]
  }
 ],
 "metadata": {
  "kernelspec": {
   "display_name": "Python 3 (ipykernel)",
   "language": "python",
   "name": "python3"
  },
  "language_info": {
   "codemirror_mode": {
    "name": "ipython",
    "version": 3
   },
   "file_extension": ".py",
   "mimetype": "text/x-python",
   "name": "python",
   "nbconvert_exporter": "python",
   "pygments_lexer": "ipython3",
   "version": "3.9.12"
  },
  "vscode": {
   "interpreter": {
    "hash": "490fec4a0d1c8aa3b117070c0a31a891d6085f2aee8ba9c2a6fb24705ee22e06"
   }
  }
 },
 "nbformat": 4,
 "nbformat_minor": 2
}
