{
 "cells": [
  {
   "cell_type": "code",
   "execution_count": 355,
   "metadata": {},
   "outputs": [
    {
     "name": "stdout",
     "output_type": "stream",
     "text": [
      "The autoreload extension is already loaded. To reload it, use:\n",
      "  %reload_ext autoreload\n"
     ]
    }
   ],
   "source": [
    "%load_ext autoreload\n",
    "%autoreload 2"
   ]
  },
  {
   "cell_type": "code",
   "execution_count": 356,
   "metadata": {},
   "outputs": [],
   "source": [
    "import numpy as np\n",
    "import xgi\n",
    "from governance import *\n",
    "import matplotlib.pyplot as plt"
   ]
  },
  {
   "cell_type": "code",
   "execution_count": 357,
   "metadata": {},
   "outputs": [],
   "source": [
    "def create_decision_matrix(m):\n",
    "    D = np.zeros((m, m))\n",
    "    for i in range(m):\n",
    "        for j in range(i):\n",
    "            D[j, i] = D[i, j] = random.choice([-1, 0, 1])\n",
    "    return D\n",
    "\n",
    "def create_random_opinions(n, m):\n",
    "    D = np.zeros((n, m))\n",
    "    for i in range(n):\n",
    "        for j in range(m):\n",
    "            #D[i, j] = random.choice([-1, 0, 1])\n",
    "            #D[i, j] = random.uniform(-1, 1)\n",
    "            if random.uniform(0, 1)>0.4:\n",
    "                D[i,j] = random.uniform(0, 1)\n",
    "            else:\n",
    "                D[i,j] = random.uniform(-1, 0)\n",
    "    return D\n",
    "\n",
    "def decisions_to_array(decisions):\n",
    "    n = len(decisions)\n",
    "    d = np.zeros(n)\n",
    "    for key, val in decisions.items():\n",
    "        if val == 1:\n",
    "            d[key] = 1\n",
    "        else:\n",
    "            d[key] = -1\n",
    "    return d\n",
    "\n",
    "def truncated_normal(mean, std, bounds):\n",
    "    x = np.random.normal(mean, std)\n",
    "    while x <= bounds[0] or x >= bounds[1]:\n",
    "        x = np.random.normal(mean, std)\n",
    "    return x\n",
    "\n",
    "def create_polarized_opinions(n, m, d, inform, pol):\n",
    "    D = np.zeros((n, m))\n",
    "    for i in range(n):\n",
    "        if random.uniform(0, 1)>inform: #dumb agent\n",
    "            for j in range(m):\n",
    "                D[i,j] = truncated_normal(0, 0.25,[-1,1])\n",
    "        elif random.uniform(0, 1)<pol:\n",
    "            for j in range(m):\n",
    "                D[i,j] = truncated_normal(0.5*d[j], 0.25,[-1,1])\n",
    "        else:\n",
    "            for j in range(m):\n",
    "                D[i,j] = truncated_normal(-0.5*d[j], 0.25,[-1,1])\n",
    "    return D\n",
    "\n",
    "\n",
    "def create_mixed_opinions(n, m, d, inform, pol):\n",
    "    D = np.zeros((n, m))\n",
    "    for i in range(n):\n",
    "        if random.uniform(0, 1)>inform: #dumb agent\n",
    "            for j in range(m):\n",
    "                D[i,j] = truncated_normal(0, 0.25,[-1,1])\n",
    "        elif random.uniform(0, 1)<pol:\n",
    "            for j in range(m):\n",
    "                D[i,j] = truncated_normal(d[j], 0.25,[-1,1])\n",
    "        else:\n",
    "            for j in range(m):\n",
    "                D[i,j] = truncated_normal(1-d[j], 0.25,[-1,1])\n",
    "    return D"
   ]
  },
  {
   "cell_type": "code",
   "execution_count": 358,
   "metadata": {},
   "outputs": [
    {
     "name": "stdout",
     "output_type": "stream",
     "text": [
      "[-1  1  1  1  1 -1]\n",
      "[[ 0 -1 -1 -1 -1  1]\n",
      " [-1  0  0  0  0  0]\n",
      " [-1  0  0  0  0  0]\n",
      " [-1  0  0  0  0  0]\n",
      " [-1  0  0  0  0  0]\n",
      " [ 1  0  0  0  0  0]]\n"
     ]
    }
   ],
   "source": [
    "num_decisions = 6\n",
    "num_people = 10000\n",
    "\n",
    "select_decision_type = \"snowball\"\n",
    "select_group_type = \"star\"\n",
    "make_decision_type = \"average\"\n",
    "update_opinions_type = \"star\"\n",
    "\n",
    "#opinions = create_opinions(num_people, num_decisions)\n",
    "opinions = create_polarized_opinions(num_people, num_decisions,[1,-1,-1,-1,-1,1],0.2,0.2)\n",
    "votes = 2*(np.mean(opinions, axis=0)>0)-1\n",
    "print(votes)\n",
    "#decision_matrix = create_decision_matrix(num_decisions)\n",
    "decision_matrix = np.array([[0,-1,-1,-1,-1,1],[-1,0,0,0,0,0],[-1,0,0,0,0,0],[-1,0,0,0,0,0],[-1,0,0,0,0,0],[1,0,0,0,0,0]])\n",
    "print(decision_matrix)"
   ]
  },
  {
   "cell_type": "code",
   "execution_count": 359,
   "metadata": {},
   "outputs": [
    {
     "name": "stdout",
     "output_type": "stream",
     "text": [
      "{4: 1.0, 0: -1.0, 1: 1.0, 5: -1.0, 2: 1.0, 3: 1.0}\n",
      "10.0\n"
     ]
    }
   ],
   "source": [
    "group_size = 26\n",
    "overlap = 25\n",
    "\n",
    "#opinions = create_opinions(num_people, num_decisions)\n",
    "opinions = create_polarized_opinions(num_people, num_decisions,[1,-1,-1,-1,-1,1],0.2,0.2)\n",
    "decisions, final_opinions, decision_groups = decision_process(opinions, decision_matrix, group_size, overlap, select_decision_type=select_decision_type, select_group_type=select_group_type, make_decision_type=make_decision_type, update_opinions_type=update_opinions_type)\n",
    "# d = decisions_to_array(decisions)\n",
    "coherence = 0\n",
    "for d1, d2 in np.ndindex(decision_matrix.shape):\n",
    "    coherence += decision_matrix[d1,d2]*decisions[d1]*decisions[d2]\n",
    "print(decisions)\n",
    "print(coherence)"
   ]
  },
  {
   "cell_type": "code",
   "execution_count": 360,
   "metadata": {
    "scrolled": true
   },
   "outputs": [
    {
     "data": {
      "text/plain": [
       "<matplotlib.image.AxesImage at 0x19b880d00>"
      ]
     },
     "execution_count": 360,
     "metadata": {},
     "output_type": "execute_result"
    },
    {
     "data": {
      "image/png": "[encoded data removed]",
      "text/plain": [
       "<Figure size 432x288 with 1 Axes>"
      ]
     },
     "metadata": {
      "needs_background": "light"
     },
     "output_type": "display_data"
    }
   ],
   "source": [
    "plt.imshow(final_opinions-opinions)"
   ]
  },
  {
   "cell_type": "code",
   "execution_count": 361,
   "metadata": {},
   "outputs": [
    {
     "name": "stdout",
     "output_type": "stream",
     "text": [
      "{4: 1.0, 0: -1.0, 1: 1.0, 5: -1.0, 2: 1.0, 3: 1.0}\n",
      "10.0\n"
     ]
    }
   ],
   "source": [
    "print(decisions)\n",
    "coherence=0\n",
    "for d1, d2 in np.ndindex(decision_matrix.shape):\n",
    "    coherence += decision_matrix[d1,d2]*decisions[d1]*decisions[d2]\n",
    "print(coherence)"
   ]
  },
  {
   "cell_type": "code",
   "execution_count": 362,
   "metadata": {},
   "outputs": [
    {
     "data": {
      "text/plain": [
       "<AxesSubplot: >"
      ]
     },
     "execution_count": 362,
     "metadata": {},
     "output_type": "execute_result"
    },
    {
     "data": {
      "image/png": "[encoded data removed]",
      "text/plain": [
       "<Figure size 432x288 with 1 Axes>"
      ]
     },
     "metadata": {},
     "output_type": "display_data"
    }
   ],
   "source": [
    "xgi.draw(decision_groups)"
   ]
  },
  {
   "cell_type": "code",
   "execution_count": null,
   "metadata": {},
   "outputs": [
    {
     "name": "stdout",
     "output_type": "stream",
     "text": [
      "0.0 0.0\n",
      "0.0 0.2\n",
      "0.0 0.4\n",
      "0.0 0.6\n",
      "0.0 0.8\n",
      "0.04 0.0\n",
      "0.04 0.2\n",
      "0.04 0.4\n",
      "0.04 0.6\n",
      "0.04 0.8\n",
      "0.08 0.0\n",
      "0.08 0.2\n",
      "0.08 0.4\n",
      "0.08 0.6\n",
      "0.08 0.8\n",
      "0.12 0.0\n",
      "0.12 0.2\n",
      "0.12 0.4\n",
      "0.12 0.6\n",
      "0.12 0.8\n",
      "0.16 0.0\n",
      "0.16 0.2\n",
      "0.16 0.4\n",
      "0.16 0.6\n",
      "0.16 0.8\n",
      "0.2 0.0\n",
      "0.2 0.2\n",
      "0.2 0.4\n",
      "0.2 0.6\n",
      "0.2 0.8\n",
      "0.24 0.0\n",
      "0.24 0.2\n",
      "0.24 0.4\n",
      "0.24 0.6\n",
      "0.24 0.8\n",
      "0.28 0.0\n",
      "0.28 0.2\n",
      "0.28 0.4\n",
      "0.28 0.6\n",
      "0.28 0.8\n",
      "0.32 0.0\n",
      "0.32 0.2\n",
      "0.32 0.4\n",
      "0.32 0.6\n",
      "0.32 0.8\n",
      "0.36 0.0\n",
      "0.36 0.2\n",
      "0.36 0.4\n",
      "0.36 0.6\n",
      "0.36 0.8\n",
      "0.4 0.0\n",
      "0.4 0.2\n",
      "0.4 0.4\n",
      "0.4 0.6\n",
      "0.4 0.8\n",
      "0.44 0.0\n",
      "0.44 0.2\n",
      "0.44 0.4\n",
      "0.44 0.6\n",
      "0.44 0.8\n",
      "0.48 0.0\n",
      "0.48 0.2\n",
      "0.48 0.4\n",
      "0.48 0.6\n",
      "0.48 0.8\n",
      "0.52 0.0\n",
      "0.52 0.2\n",
      "0.52 0.4\n",
      "0.52 0.6\n",
      "0.52 0.8\n",
      "0.56 0.0\n",
      "0.56 0.2\n",
      "0.56 0.4\n",
      "0.56 0.6\n",
      "0.56 0.8\n",
      "0.6 0.0\n",
      "0.6 0.2\n",
      "0.6 0.4\n",
      "0.6 0.6\n",
      "0.6 0.8\n",
      "0.64 0.0\n",
      "0.64 0.2\n",
      "0.64 0.4\n",
      "0.64 0.6\n",
      "0.64 0.8\n",
      "0.68 0.0\n",
      "0.68 0.2\n",
      "0.68 0.4\n",
      "0.68 0.6\n",
      "0.68 0.8\n",
      "0.72 0.0\n",
      "0.72 0.2\n",
      "0.72 0.4\n",
      "0.72 0.6\n",
      "0.72 0.8\n",
      "0.76 0.0\n",
      "0.76 0.2\n",
      "0.76 0.4\n",
      "0.76 0.6\n",
      "0.76 0.8\n",
      "0.8 0.0\n",
      "0.8 0.2\n",
      "0.8 0.4\n"
     ]
    }
   ],
   "source": [
    "num_samples = 500\n",
    "group_sizes = np.arange(1, 51, 2, dtype=int)\n",
    "satisfaction_group_size = np.zeros(len(group_sizes))\n",
    "satisfiability_group_size = np.zeros(len(group_sizes))\n",
    "overlap = 0\n",
    "H_group_sizes = dict()\n",
    "\n",
    "for i in range(len(group_sizes)):\n",
    "    g = group_sizes[i]\n",
    "    for j in range(num_samples):\n",
    "        if j%100==0:\n",
    "            print(i/len(group_sizes), j/num_samples)\n",
    "        #opinions = create_random_opinions(num_people, num_decisions)\n",
    "        opinions = create_polarized_opinions(num_people, num_decisions,[1,-1,-1,-1,-1,1],0.33,0.6)\n",
    "        #opinions = create_mixed_opinions(num_people, num_decisions,[0.6,-0.4,-0.4,-0.4,-0.4,0.6],0.0,0.6)\n",
    "        #binary_votes = 2*(np.mean(opinions, axis=0)>0)-1\n",
    "        votes = np.mean(opinions, axis=0)\n",
    "        decisions, final_opinions, decision_groups = decision_process(opinions, decision_matrix, g, overlap, select_decision_type=select_decision_type, select_group_type=select_group_type, make_decision_type=make_decision_type, update_opinions_type=update_opinions_type)\n",
    "        #H_group_sizes[(g, overlap, j)] = decision_groups\n",
    "        d = decisions_to_array(decisions)\n",
    "        #satisfaction_group_size[i] += np.mean(opinions.dot(d))/num_samples\n",
    "        satisfaction_group_size[i] += votes.dot(d)/num_samples\n",
    "        for d1, d2 in np.ndindex(decision_matrix.shape):\n",
    "            satisfiability_group_size[i] += decision_matrix[d1,d2]*decisions[d1]*decisions[d2]/num_samples"
   ]
  },
  {
   "cell_type": "code",
   "execution_count": null,
   "metadata": {},
   "outputs": [],
   "source": [
    "num_samples = 500\n",
    "overlap_sizes = np.arange(0, 20+1, 2, dtype=int)\n",
    "satisfaction_overlap_size = np.zeros(len(overlap_sizes))\n",
    "satisfiability_overlap_size = np.zeros(len(overlap_sizes))\n",
    "group_size = max(overlap_sizes) + 1\n",
    "\n",
    "H_overlap_sizes = dict()\n",
    "\n",
    "for i in range(len(overlap_sizes)):\n",
    "    o = overlap_sizes[i]\n",
    "    for j in range(num_samples):\n",
    "        if j%100==0:\n",
    "            print(i/len(overlap_sizes), j/num_samples)\n",
    "        #opinions = create_random_opinions(num_people, num_decisions)\n",
    "        opinions = create_polarized_opinions(num_people, num_decisions,[1,-1,-1,-1,-1,1],0.33,0.6)\n",
    "        #opinions = create_mixed_opinions(num_people, num_decisions,[0.6,-0.4,-0.4,-0.4,-0.4,0.6],0.0,0.6)\n",
    "        #binary_votes = 2*(np.mean(opinions, axis=0)>0)-1\n",
    "        votes = np.mean(opinions, axis=0)\n",
    "        decisions, final_opinions, decision_groups = decision_process(opinions, decision_matrix, group_size, o, select_decision_type=select_decision_type, select_group_type=select_group_type, make_decision_type=make_decision_type, update_opinions_type=update_opinions_type)\n",
    "        H_overlap_sizes[(group_size, o, j)] = decision_groups\n",
    "        d = decisions_to_array(decisions)\n",
    "        #satisfaction_overlap_size[i] += np.mean(opinions.dot(d))/num_samples\n",
    "        satisfaction_overlap_size[i] += votes.dot(d)/num_samples\n",
    "        for d1, d2 in np.ndindex(decision_matrix.shape):\n",
    "            satisfiability_overlap_size[i] += decision_matrix[d1,d2]*decisions[d1]*decisions[d2]/num_samples"
   ]
  },
  {
   "cell_type": "code",
   "execution_count": null,
   "metadata": {},
   "outputs": [],
   "source": [
    "plt.figure()\n",
    "plt.subplot(211)\n",
    "plt.plot(group_sizes, satisfaction_group_size,'ko-', linewidth=1, markersize=5)\n",
    "plt.ylabel(\"Average satisfaction\")\n",
    "plt.xlabel(\"Group size\")\n",
    "plt.subplot(212)\n",
    "plt.plot(overlap_sizes, satisfaction_overlap_size,'ko-', linewidth=1, markersize=5)\n",
    "plt.ylabel(\"Average satisfaction\")\n",
    "plt.xlabel(\"Overlap size\")\n",
    "plt.tight_layout()\n",
    "plt.savefig(\"democratic.pdf\")\n",
    "plt.show()"
   ]
  },
  {
   "cell_type": "code",
   "execution_count": null,
   "metadata": {},
   "outputs": [],
   "source": [
    "plt.figure()\n",
    "plt.subplot(211)\n",
    "plt.plot(group_sizes, satisfiability_group_size,'ko-', linewidth=1, markersize=5)\n",
    "plt.ylabel(\"Average coherence\")\n",
    "plt.xlabel(\"Group size\")\n",
    "plt.subplot(212)\n",
    "plt.plot(overlap_sizes, satisfiability_overlap_size,'ko-', linewidth=1, markersize=5)\n",
    "plt.ylabel(\"Average coherence\")\n",
    "plt.xlabel(\"Overlap size\")\n",
    "plt.tight_layout()\n",
    "plt.savefig(\"coherence.pdf\")\n",
    "plt.show()"
   ]
  },
  {
   "cell_type": "code",
   "execution_count": null,
   "metadata": {},
   "outputs": [],
   "source": [
    "plt.figure()\n",
    "plt.subplot(221)\n",
    "plt.plot(group_sizes, satisfaction_group_size,'ko-', linewidth=1, markersize=5)\n",
    "plt.ylabel(\"Average satisfaction\")\n",
    "plt.xlabel(\"Group size\")\n",
    "plt.subplot(222)\n",
    "plt.plot(overlap_sizes, satisfaction_overlap_size,'ko-', linewidth=1, markersize=5)\n",
    "plt.ylabel(\"Average satisfaction\")\n",
    "plt.xlabel(\"Overlap size\")\n",
    "plt.subplot(223)\n",
    "plt.plot(group_sizes, satisfiability_group_size,'ko-', linewidth=1, markersize=5)\n",
    "plt.ylabel(\"Average coherence\")\n",
    "plt.xlabel(\"Group size\")\n",
    "plt.subplot(224)\n",
    "plt.plot(overlap_sizes, satisfiability_overlap_size,'ko-', linewidth=1, markersize=5)\n",
    "plt.ylabel(\"Average coherence\")\n",
    "plt.xlabel(\"Overlap size\")\n",
    "plt.tight_layout()\n",
    "plt.savefig(\"complete.pdf\")\n",
    "plt.show()"
   ]
  },
  {
   "cell_type": "code",
   "execution_count": 349,
   "metadata": {},
   "outputs": [
    {
     "ename": "KeyError",
     "evalue": "(31, 5, 5)",
     "output_type": "error",
     "traceback": [
      "\u001b[0;31m---------------------------------------------------------------------------\u001b[0m",
      "\u001b[0;31mKeyError\u001b[0m                                  Traceback (most recent call last)",
      "Input \u001b[0;32mIn [349]\u001b[0m, in \u001b[0;36m<cell line: 1>\u001b[0;34m()\u001b[0m\n\u001b[0;32m----> 1\u001b[0m xgi\u001b[38;5;241m.\u001b[39mdraw(\u001b[43mH_overlap_sizes\u001b[49m\u001b[43m[\u001b[49m\u001b[43m(\u001b[49m\u001b[38;5;241;43m31\u001b[39;49m\u001b[43m,\u001b[49m\u001b[43m \u001b[49m\u001b[38;5;241;43m5\u001b[39;49m\u001b[43m,\u001b[49m\u001b[43m \u001b[49m\u001b[38;5;241;43m5\u001b[39;49m\u001b[43m)\u001b[49m\u001b[43m]\u001b[49m, xgi\u001b[38;5;241m.\u001b[39mpairwise_spring_layout(H_overlap_sizes[(\u001b[38;5;241m31\u001b[39m, \u001b[38;5;241m5\u001b[39m, \u001b[38;5;241m5\u001b[39m)]), node_size\u001b[38;5;241m=\u001b[39m\u001b[38;5;241m5\u001b[39m)\n",
      "\u001b[0;31mKeyError\u001b[0m: (31, 5, 5)"
     ]
    }
   ],
   "source": [
    "xgi.draw(H_overlap_sizes[(31, 5, 5)], xgi.pairwise_spring_layout(H_overlap_sizes[(31, 5, 5)]), node_size=5) "
   ]
  },
  {
   "cell_type": "markdown",
   "metadata": {},
   "source": [
    "## "
   ]
  }
 ],
 "metadata": {
  "kernelspec": {
   "display_name": "Python 3 (ipykernel)",
   "language": "python",
   "name": "python3"
  },
  "language_info": {
   "codemirror_mode": {
    "name": "ipython",
    "version": 3
   },
   "file_extension": ".py",
   "mimetype": "text/x-python",
   "name": "python",
   "nbconvert_exporter": "python",
   "pygments_lexer": "ipython3",
   "version": "3.9.12"
  },
  "vscode": {
   "interpreter": {
    "hash": "490fec4a0d1c8aa3b117070c0a31a891d6085f2aee8ba9c2a6fb24705ee22e06"
   }
  }
 },
 "nbformat": 4,
 "nbformat_minor": 2
}
