{
 "cells": [
  {
   "cell_type": "code",
   "execution_count": null,
   "metadata": {},
   "outputs": [],
   "source": [
    "%load_ext autoreload\n",
    "%autoreload 2"
   ]
  },
  {
   "cell_type": "code",
   "execution_count": null,
   "metadata": {},
   "outputs": [],
   "source": [
    "import numpy as np\n",
    "import xgi\n",
    "from governance import *\n",
    "import matplotlib.pyplot as plt"
   ]
  },
  {
   "cell_type": "code",
   "execution_count": null,
   "metadata": {},
   "outputs": [],
   "source": [
    "def create_decision_matrix(m):\n",
    "    D = np.zeros((m, m))\n",
    "    for i in range(m):\n",
    "        for j in range(i):\n",
    "            D[j, i] = D[i, j] = random.choice([-1, 0, 1])\n",
    "    return D\n",
    "\n",
    "def create_opinions(n, m):\n",
    "    D = np.zeros((n, m))\n",
    "    for i in range(n):\n",
    "        for j in range(m):\n",
    "            D[i, j] = random.choice([-1, 0, 1])\n",
    "    return D\n",
    "\n",
    "def decisions_to_array(decisions):\n",
    "    n = len(decisions)\n",
    "    d = np.zeros(n)\n",
    "    for key, val in decisions.items():\n",
    "        if val:\n",
    "            d[key] = 1\n",
    "        else:\n",
    "            d[key] = -1\n",
    "    return d\n"
   ]
  },
  {
   "cell_type": "code",
   "execution_count": null,
   "metadata": {},
   "outputs": [],
   "source": [
    "num_decisions = 20\n",
    "num_people = 100\n",
    "opinions = create_opinions(num_people, num_decisions)\n",
    "decision_matrix = create_decision_matrix(num_decisions)"
   ]
  },
  {
   "cell_type": "code",
   "execution_count": null,
   "metadata": {},
   "outputs": [],
   "source": [
    "group_size = 3\n",
    "overlap = 1\n",
    "\n",
    "decisions, final_opinions, decision_groups = decision_process(opinions, decision_matrix, group_size, overlap, select_decision_type=\"random\", select_group_type=\"star\",make_decision_type=\"average\",update_opinions_type=\"average\")\n",
    "# d = decisions_to_array(decisions)"
   ]
  },
  {
   "cell_type": "code",
   "execution_count": null,
   "metadata": {},
   "outputs": [],
   "source": [
    "plt.imshow(final_opinions-opinions)"
   ]
  },
  {
   "cell_type": "code",
   "execution_count": null,
   "metadata": {},
   "outputs": [],
   "source": [
    "xgi.draw(decision_groups)"
   ]
  },
  {
   "cell_type": "code",
   "execution_count": null,
   "metadata": {},
   "outputs": [],
   "source": [
    "num_samples = 1000\n",
    "group_sizes = np.arange(2, 11, 1, dtype=int)\n",
    "satisfaction_group_size = np.zeros(len(group_sizes))\n",
    "overlap = min(group_sizes) - 1\n",
    "H_group_sizes = dict()\n",
    "\n",
    "for i in range(len(group_sizes)):\n",
    "    g = group_sizes[i]\n",
    "    for j in range(num_samples):\n",
    "        decisions, final_opinions, decision_groups = decision_process(opinions, decision_matrix, group_size, overlap, select_decision_type=\"random\", select_group_type=\"random\",make_decision_type=\"average\",update_opinions_type=\"average\")\n",
    "        H_group_sizes[(g, overlap, j)] = decision_groups\n",
    "        d = decisions_to_array(decisions)\n",
    "        satisfaction_group_size[i] += np.mean(opinions.dot(d))/num_samples"
   ]
  },
  {
   "cell_type": "code",
   "execution_count": null,
   "metadata": {},
   "outputs": [],
   "source": [
    "num_samples = 1000\n",
    "overlap_sizes = np.arange(2, 11, 1, dtype=int)\n",
    "satisfaction_overlap_size = np.zeros(len(group_sizes))\n",
    "group_size = max(overlap_sizes) + 1\n",
    "\n",
    "H_overlap_sizes = dict()\n",
    "\n",
    "for i in range(len(overlap_sizes)):\n",
    "    o = overlap_sizes[i]\n",
    "    for j in range(num_samples):\n",
    "        decisions, final_opinions, decision_groups = decision_process(opinions, decision_matrix, group_size, overlap, select_decision_type=\"random\", select_group_type=\"random\",make_decision_type=\"average\",update_opinions_type=\"average\")\n",
    "        H_overlap_sizes[(group_size, o, j)] = decision_groups\n",
    "        d = decisions_to_array(decisions)\n",
    "        satisfaction_overlap_size[i] += np.mean(opinions.dot(d))/num_samples"
   ]
  },
  {
   "cell_type": "code",
   "execution_count": null,
   "metadata": {},
   "outputs": [],
   "source": [
    "plt.figure()\n",
    "plt.subplot(211)\n",
    "plt.plot(group_sizes, satisfaction_group_size)\n",
    "plt.ylabel(\"Average satisfaction\")\n",
    "plt.xlabel(\"Group size\")\n",
    "plt.subplot(212)\n",
    "plt.plot(overlap_sizes, satisfaction_overlap_size)\n",
    "plt.ylabel(\"Average satisfaction\")\n",
    "plt.xlabel(\"Overlap size\")\n",
    "plt.tight_layout()\n",
    "plt.show()"
   ]
  },
  {
   "cell_type": "code",
   "execution_count": null,
   "metadata": {},
   "outputs": [],
   "source": [
    "num_samples = 100\n",
    "group_sizes = np.arange(2, 11, 1, dtype=int)\n",
    "satisfaction_group_size = np.zeros(len(group_sizes))\n",
    "overlap = min(group_sizes) - 1\n",
    "H_group_sizes = dict()\n",
    "\n",
    "for i in range(len(group_sizes)):\n",
    "    g = group_sizes[i]\n",
    "    for j in range(num_samples):\n",
    "        decisions, final_opinions, decision_groups = decision_process(opinions, decision_matrix, group_size, overlap, select_decision_type=\"degree\", select_group_type=\"random\",make_decision_type=\"average\",update_opinions_type=\"average\")\n",
    "        H_group_sizes[(g, overlap, j)] = decision_groups\n",
    "        d = decisions_to_array(decisions)\n",
    "        satisfaction_group_size[i] += np.mean(final_opinions.dot(d))/num_samples"
   ]
  },
  {
   "cell_type": "code",
   "execution_count": null,
   "metadata": {},
   "outputs": [],
   "source": [
    "num_samples = 100\n",
    "overlap_sizes = np.arange(2, 11, 1, dtype=int)\n",
    "satisfaction_overlap_size = np.zeros(len(group_sizes))\n",
    "group_size = max(overlap_sizes) + 1\n",
    "\n",
    "H_overlap_sizes = dict()\n",
    "\n",
    "for i in range(len(overlap_sizes)):\n",
    "    o = overlap_sizes[i]\n",
    "    for j in range(num_samples):\n",
    "        decisions, final_opinions, decision_groups = decision_process(opinions, decision_matrix, group_size, overlap, select_decision_type=\"degree\", select_group_type=\"random\",make_decision_type=\"average\",update_opinions_type=\"average\")\n",
    "        H_overlap_sizes[(group_size, o, j)] = decision_groups\n",
    "        d = decisions_to_array(decisions)\n",
    "        satisfaction_overlap_size[i] += np.mean(final_opinions.dot(d))/num_samples"
   ]
  },
  {
   "cell_type": "code",
   "execution_count": null,
   "metadata": {},
   "outputs": [],
   "source": [
    "plt.figure()\n",
    "plt.subplot(211)\n",
    "plt.plot(group_sizes, satisfaction_group_size)\n",
    "plt.ylabel(\"Average satisfaction\")\n",
    "plt.xlabel(\"Group size\")\n",
    "plt.subplot(212)\n",
    "plt.plot(overlap_sizes, satisfaction_overlap_size)\n",
    "plt.ylabel(\"Average satisfaction\")\n",
    "plt.xlabel(\"Overlap size\")\n",
    "plt.tight_layout()\n",
    "plt.show()"
   ]
  },
  {
   "cell_type": "code",
   "execution_count": null,
   "metadata": {},
   "outputs": [],
   "source": [
    "num_samples = 1000\n",
    "group_sizes = np.arange(2, 11, 1, dtype=int)\n",
    "satisfaction_group_size = np.zeros(len(group_sizes))\n",
    "overlap = min(group_sizes) - 1\n",
    "H_group_sizes = dict()\n",
    "\n",
    "for i in range(len(group_sizes)):\n",
    "    g = group_sizes[i]\n",
    "    for j in range(num_samples):\n",
    "        decisions, final_opinions, decision_groups = decision_process(opinions, decision_matrix, group_size, overlap, select_decision_type=\"sentiment\", select_group_type=\"random\",make_decision_type=\"average\",update_opinions_type=\"average\")\n",
    "        H_group_sizes[(g, overlap, j)] = decision_groups\n",
    "        d = decisions_to_array(decisions)\n",
    "        satisfaction_group_size[i] += np.mean(final_opinions.dot(d))/num_samples"
   ]
  },
  {
   "cell_type": "code",
   "execution_count": null,
   "metadata": {},
   "outputs": [],
   "source": [
    "num_samples = 1000\n",
    "overlap_sizes = np.arange(2, 11, 1, dtype=int)\n",
    "satisfaction_overlap_size = np.zeros(len(group_sizes))\n",
    "group_size = max(overlap_sizes) + 1\n",
    "\n",
    "H_overlap_sizes = dict()\n",
    "\n",
    "for i in range(len(overlap_sizes)):\n",
    "    o = overlap_sizes[i]\n",
    "    for j in range(num_samples):\n",
    "        decisions, final_opinions, decision_groups = decision_process(opinions, decision_matrix, group_size, overlap, select_decision_type=\"sentiment\", select_group_type=\"random\",make_decision_type=\"average\",update_opinions_type=\"average\")\n",
    "        H_overlap_sizes[(group_size, o, j)] = decision_groups\n",
    "        d = decisions_to_array(decisions)\n",
    "        satisfaction_overlap_size[i] += np.mean(final_opinions.dot(d))/num_samples"
   ]
  },
  {
   "cell_type": "code",
   "execution_count": null,
   "metadata": {},
   "outputs": [],
   "source": [
    "plt.figure()\n",
    "plt.subplot(211)\n",
    "plt.plot(group_sizes, satisfaction_group_size)\n",
    "plt.ylabel(\"Average satisfaction\")\n",
    "plt.xlabel(\"Group size\")\n",
    "plt.subplot(212)\n",
    "plt.plot(overlap_sizes, satisfaction_overlap_size)\n",
    "plt.ylabel(\"Average satisfaction\")\n",
    "plt.xlabel(\"Overlap size\")\n",
    "plt.tight_layout()\n",
    "plt.show()"
   ]
  },
  {
   "cell_type": "code",
   "execution_count": null,
   "metadata": {},
   "outputs": [],
   "source": [
    "xgi.draw(H_overlap_sizes[(11, 2, 5)])"
   ]
  }
 ],
 "metadata": {
  "kernelspec": {
   "display_name": "Python 3.8.16 ('governance')",
   "language": "python",
   "name": "python3"
  },
  "language_info": {
   "codemirror_mode": {
    "name": "ipython",
    "version": 3
   },
   "file_extension": ".py",
   "mimetype": "text/x-python",
   "name": "python",
   "nbconvert_exporter": "python",
   "pygments_lexer": "ipython3",
   "version": "3.8.16"
  },
  "vscode": {
   "interpreter": {
    "hash": "490fec4a0d1c8aa3b117070c0a31a891d6085f2aee8ba9c2a6fb24705ee22e06"
   }
  }
 },
 "nbformat": 4,
 "nbformat_minor": 2
}
