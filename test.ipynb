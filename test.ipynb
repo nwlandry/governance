{
 "cells": [
  {
   "cell_type": "code",
   "execution_count": null,
   "metadata": {},
   "outputs": [],
   "source": [
    "import numpy as np\n",
    "import xgi"
   ]
  },
  {
   "cell_type": "code",
   "execution_count": null,
   "metadata": {},
   "outputs": [],
   "source": [
    "# assemble signed decision network\n",
    "# assign opinions to start\n",
    "# form opinion group\n",
    "# update states on the decision network\n",
    "# update nodal states"
   ]
  },
  {
   "cell_type": "code",
   "execution_count": null,
   "metadata": {},
   "outputs": [],
   "source": [
    "def create_decision_network(n):\n",
    "    return np.zeros((n,n))"
   ]
  },
  {
   "cell_type": "code",
   "execution_count": 1,
   "metadata": {},
   "outputs": [
    {
     "ename": "TypeError",
     "evalue": "'set' object is not subscriptable",
     "output_type": "error",
     "traceback": [
      "\u001b[0;31m---------------------------------------------------------------------------\u001b[0m",
      "\u001b[0;31mTypeError\u001b[0m                                 Traceback (most recent call last)",
      "Cell \u001b[0;32mIn[1], line 3\u001b[0m\n\u001b[1;32m      1\u001b[0m \u001b[39mimport\u001b[39;00m \u001b[39mrandom\u001b[39;00m\n\u001b[0;32m----> 3\u001b[0m random\u001b[39m.\u001b[39;49mchoice({\u001b[39m2\u001b[39;49m, \u001b[39m3\u001b[39;49m, \u001b[39m4\u001b[39;49m})\n",
      "File \u001b[0;32m/Library/Frameworks/Python.framework/Versions/3.11/lib/python3.11/random.py:371\u001b[0m, in \u001b[0;36mRandom.choice\u001b[0;34m(self, seq)\u001b[0m\n\u001b[1;32m    369\u001b[0m \u001b[39mif\u001b[39;00m \u001b[39mnot\u001b[39;00m seq:\n\u001b[1;32m    370\u001b[0m     \u001b[39mraise\u001b[39;00m \u001b[39mIndexError\u001b[39;00m(\u001b[39m'\u001b[39m\u001b[39mCannot choose from an empty sequence\u001b[39m\u001b[39m'\u001b[39m)\n\u001b[0;32m--> 371\u001b[0m \u001b[39mreturn\u001b[39;00m seq[\u001b[39mself\u001b[39;49m\u001b[39m.\u001b[39;49m_randbelow(\u001b[39mlen\u001b[39;49m(seq))]\n",
      "\u001b[0;31mTypeError\u001b[0m: 'set' object is not subscriptable"
     ]
    }
   ],
   "source": [
    "import random\n",
    "\n",
    "random.choice({2, 3, 4})"
   ]
  },
  {
   "cell_type": "code",
   "execution_count": null,
   "metadata": {},
   "outputs": [],
   "source": [
    "def decision_process(opinions, decisions, select_decision, select_group, make_decision, update_opinions):\n",
    "    \n",
    "    num_decisions = np.size(decisions, axis=0)\n",
    "\n",
    "    if set(np.shape(decisions)) != 1:\n",
    "        raise Exception(\"Decision matrix must be square!\")\n",
    "\n",
    "    if np.size(opinions, axis=1) != num_decisions:\n",
    "        raise Exception(\"Opinion dimension doesn't match number of decisions\")\n",
    "    \n",
    "    num_people = np.size(opinions, axis=0)\n",
    "    \n",
    "    completed_decisions = dict()\n",
    "\n",
    "    decision_groups = xgi.Hypergraph()\n",
    "    while len(completed_decisions) < num_decisions:\n",
    "        # Select the decision to make\n",
    "        d = select_decision(decisions, completed_decisions)\n",
    "\n",
    "        # Select the group to make that decision\n",
    "        g = select_group(decision_groups, opinions)\n",
    "        decision_groups.add_edge(g, id=d) # add the group to the list of all decision groups\n",
    "\n",
    "        # Make the decision\n",
    "        completed_decisions[d] = make_decision(d, g, decisions, opinions, completed_decisions)\n",
    "\n",
    "        # Update the group's opinions after the decision has been made.\n",
    "        opinions = update_opinions(d, g, decisions, opinions, completed_decisions)\n",
    "\n",
    "    return d, opinions"
   ]
  }
 ],
 "metadata": {
  "kernelspec": {
   "display_name": "Python 3",
   "language": "python",
   "name": "python3"
  },
  "language_info": {
   "codemirror_mode": {
    "name": "ipython",
    "version": 3
   },
   "file_extension": ".py",
   "mimetype": "text/x-python",
   "name": "python",
   "nbconvert_exporter": "python",
   "pygments_lexer": "ipython3",
   "version": "3.11.1"
  },
  "orig_nbformat": 4,
  "vscode": {
   "interpreter": {
    "hash": "aee8b7b246df8f9039afb4144a1f6fd8d2ca17a180786b69acc140d282b71a49"
   }
  }
 },
 "nbformat": 4,
 "nbformat_minor": 2
}
